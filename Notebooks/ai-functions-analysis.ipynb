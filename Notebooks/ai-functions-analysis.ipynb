{
 "cells": [
  {
   "cell_type": "code",
   "execution_count": 1,
   "metadata": {},
   "outputs": [
    {
     "name": "stdout",
     "output_type": "stream",
     "text": [
      "<Response [200]>\n",
      "{\n",
      "\"version\": \"3.0\",\n",
      "\"name\": \"Web 3.0\",\n",
      "\"definition\": \"Web 3.0, also known as the 'semantic web' or 'the decentralized web,' represents the next evolution of the World Wide Web beyond Web 2.0. It aims to create a user-centric, interoperable, and decentralized internet where data can be processed directly and machines can understand its meaning, enabling intelligent behavior and automation. The primary technologies associated with Web 3.0 include blockchain, smart contracts, decentralized applications (DApps), semantic markup languages like RDF, ontologies, artificial intelligence, and more.\",\n",
      "\"tags\": [\"Web\", \"Internet\", \"Semantic web\", \"Decentralization\", \"Blockchain\", \"Smart Contracts\", \"Artificial Intelligence\"]}\n",
      "\n",
      "\n",
      "\n",
      "\n",
      "\n",
      "\n",
      "\n",
      "\n",
      "\n",
      "\n",
      "\n",
      "\n",
      "\n",
      "\n",
      "\n",
      "\n",
      "\n",
      "\n",
      "\n",
      "\n",
      "\n",
      "\n",
      "\n",
      "\n",
      "\n",
      "\n",
      "\n",
      "\n",
      "\n",
      "\n",
      "\n"
     ]
    }
   ],
   "source": [
    "import os\n",
    "import sys\n",
    "\n",
    "# Set directory paths\n",
    "parent_dir = os.path.abspath('..')\n",
    "if parent_dir not in sys.path:\n",
    "    sys.path.append(parent_dir)\n",
    "\n",
    "from utils.config import load_config\n",
    "from ModelApi.openai_model_api import OpenaiAPI\n",
    "from ModelApi.ollama_model_api import OllamaAPI\n",
    "\n",
    "config_path = os.path.join(parent_dir, 'config.yaml')\n",
    "\n",
    "# Need paid account\n",
    "# chatgpt = OpenaiAPI(\"gpt-3.5-turbo\")  # Make sure the model name is correct\n",
    "# try:\n",
    "#     response = chatgpt.chat('What is the largest state in Nigeria?')\n",
    "#     print(\"Openapi's response:\", response)\n",
    "# except Exception as e:\n",
    "#     print(\"Error:\", e)\n",
    "\n",
    "\n",
    "ollama = OllamaAPI('mistral:latest')\n",
    "response = ollama.chat('What is web 3?')\n",
    "print(response)"
   ]
  }
 ],
 "metadata": {
  "kernelspec": {
   "display_name": "awca_env",
   "language": "python",
   "name": "python3"
  },
  "language_info": {
   "codemirror_mode": {
    "name": "ipython",
    "version": 3
   },
   "file_extension": ".py",
   "mimetype": "text/x-python",
   "name": "python",
   "nbconvert_exporter": "python",
   "pygments_lexer": "ipython3",
   "version": "3.12.4"
  }
 },
 "nbformat": 4,
 "nbformat_minor": 2
}
