{
 "cells": [
  {
   "cell_type": "code",
   "execution_count": null,
   "metadata": {},
   "outputs": [],
   "source": [
    "import os\n",
    "import sys\n",
    "\n",
    "# Set directory paths\n",
    "parent_dir = os.path.abspath('..')\n",
    "if parent_dir not in sys.path:\n",
    "    sys.path.append(parent_dir)\n",
    "\n",
    "from utils.config import load_config\n",
    "from model.standard.openai_model_api import OpenaiAPI\n",
    "from model.standard.ollama_model_api import OllamaAPI\n",
    "\n",
    "config_path = os.path.join(parent_dir, 'config.yaml')\n",
    "\n",
    "# Need paid account\n",
    "# chatgpt = OpenaiAPI(\"gpt-3.5-turbo\")  # Make sure the model name is correct\n",
    "# try:\n",
    "#     response = chatgpt.chat('What is the largest state in Nigeria?')\n",
    "#     print(\"Openapi's response:\", response)\n",
    "# except Exception as e:\n",
    "#     print(\"Error:\", e)\n",
    "\n",
    "\n",
    "ollama = OllamaAPI('mistral:latest')\n",
    "response = ollama.chat('How much will be paid monthly on a loan of £10000 for 5 years at a rate of 2.5% annunally.')\n",
    "print(response)"
   ]
  },
  {
   "cell_type": "code",
   "execution_count": null,
   "metadata": {},
   "outputs": [],
   "source": [
    "import os\n",
    "import sys\n",
    "\n",
    "# Set directory paths\n",
    "parent_dir = os.path.abspath('..')\n",
    "if parent_dir not in sys.path:\n",
    "    sys.path.append(parent_dir)\n",
    "\n",
    "from ai_assistants.financial.fixed_rate import fixed_rate_prompt\n",
    "# Get the directory of the current file\n",
    "# current_dir = os.path.dirname(__file__)\n",
    "# print(current_dir)\n",
    "# Define the relative path to the assistants directory\n",
    "\n",
    "# print(get_functions_list(assistant_folder_path, excluded_files))\n",
    "# # Walk through the directory structure\n",
    "# for root, dirs, files in os.walk(assistant_folder_path):\n",
    "#     for file in files:\n",
    "#         if file.endswith('.py') and file not in excluded_files:\n",
    "#             file_path = os.path.join(root, file)\n",
    "#             function_dict = get_functions_list(file_path)\n",
    "#             print(function_dict)\n",
    "#             print(f\"Functions extracted from {file_path}:\")\n",
    "#             for func_name, docstring in function_dict.items():\n",
    "#                 print(f\"{func_name}: {docstring}\\n\")\n",
    "\n",
    "input_str = '{\"principal\": 6000, \"period\": 60, \"interestRate\": 3, \"periodType\": \"month\"}'\n",
    "result = fixed_rate_prompt(input_str)\n",
    "print(result)"
   ]
  },
  {
   "cell_type": "code",
   "execution_count": 3,
   "metadata": {},
   "outputs": [
    {
     "name": "stdout",
     "output_type": "stream",
     "text": [
      "c:\\Users\\JTOSH\\Documents\\ai_project\\ai_with_custom_agent\\ai_assistants\n",
      "{'interestRate': 0.0025, 'periodPayment': 107.8121439843809, 'totalCostOfMortgage': 6468.728639062854, 'periodType': 'month', 'period': 60}\n"
     ]
    }
   ],
   "source": [
    "import os\n",
    "import sys\n",
    "\n",
    "# Set directory paths\n",
    "parent_dir = os.path.abspath('..')\n",
    "if parent_dir not in sys.path:\n",
    "    sys.path.append(parent_dir)\n",
    "\n",
    "from registry.register_tools import create_registry as registered_ai_assistants\n",
    "\n",
    "test = registered_ai_assistants()\n",
    "for i in test.list_functions():\n",
    "    if i['func_name'] == 'fixed_rate_prompt':\n",
    "        print(i['func']('{\"principal\": 6000, \"period\": 60, \"interestRate\": 3, \"periodType\": \"month\"}'))"
   ]
  }
 ],
 "metadata": {
  "kernelspec": {
   "display_name": "awca_env",
   "language": "python",
   "name": "python3"
  },
  "language_info": {
   "codemirror_mode": {
    "name": "ipython",
    "version": 3
   },
   "file_extension": ".py",
   "mimetype": "text/x-python",
   "name": "python",
   "nbconvert_exporter": "python",
   "pygments_lexer": "ipython3",
   "version": "3.12.4"
  }
 },
 "nbformat": 4,
 "nbformat_minor": 2
}
