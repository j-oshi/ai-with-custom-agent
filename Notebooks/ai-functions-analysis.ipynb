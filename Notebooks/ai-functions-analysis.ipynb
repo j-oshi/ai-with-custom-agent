{
 "cells": [
  {
   "cell_type": "code",
   "execution_count": null,
   "metadata": {},
   "outputs": [],
   "source": [
    "import os\n",
    "import sys\n",
    "\n",
    "# Set directory paths\n",
    "parent_dir = os.path.abspath('..')\n",
    "if parent_dir not in sys.path:\n",
    "    sys.path.append(parent_dir)\n",
    "\n",
    "from utils.config import load_config\n",
    "# from model.standard.openai_model_api import OpenaiAPI\n",
    "# from model.standard.ollama_model_api import OllamaAPI\n",
    "from model.react import ollama_model_api, openai_model_api\n",
    "\n",
    "config_path = os.path.join(parent_dir, 'config.yaml')\n",
    "\n",
    "# Need paid account\n",
    "# chatgpt = OpenaiAPI(\"gpt-3.5-turbo\")  # Make sure the model name is correct\n",
    "# try:\n",
    "#     response = chatgpt.chat('What is the largest state in Nigeria?')\n",
    "#     print(\"Openapi's response:\", response)\n",
    "# except Exception as e:\n",
    "#     print(\"Error:\", e)\n",
    "\n",
    "\n",
    "ollama = ollama_model_api.OllamaAPI('mistral:latest')\n",
    "response = ollama.chat('How much will be paid monthly on a loan of £10000 for 5 years at a rate of 2.5% annunally.')\n",
    "print(response)"
   ]
  },
  {
   "cell_type": "code",
   "execution_count": null,
   "metadata": {},
   "outputs": [],
   "source": [
    "import os\n",
    "import sys\n",
    "\n",
    "# Set directory paths\n",
    "parent_dir = os.path.abspath('..')\n",
    "if parent_dir not in sys.path:\n",
    "    sys.path.append(parent_dir)\n",
    "\n",
    "from tools.financial.fixed_rate import fixed_rate_prompt\n",
    "# Get the directory of the current file\n",
    "# current_dir = os.path.dirname(__file__)\n",
    "# print(current_dir)\n",
    "# Define the relative path to the assistants directory\n",
    "\n",
    "# print(get_functions_list(assistant_folder_path, excluded_files))\n",
    "# # Walk through the directory structure\n",
    "# for root, dirs, files in os.walk(assistant_folder_path):\n",
    "#     for file in files:\n",
    "#         if file.endswith('.py') and file not in excluded_files:\n",
    "#             file_path = os.path.join(root, file)\n",
    "#             function_dict = get_functions_list(file_path)\n",
    "#             print(function_dict)\n",
    "#             print(f\"Functions extracted from {file_path}:\")\n",
    "#             for func_name, docstring in function_dict.items():\n",
    "#                 print(f\"{func_name}: {docstring}\\n\")\n",
    "\n",
    "input_str = '{\"principal\": 35000, \"period\": 6, \"interestRate\": 2, \"periodType\": \"year\"}'\n",
    "result = fixed_rate_prompt(input_str)\n",
    "print(result)\n",
    "\n",
    "{'interestRate': 0.025, 'periodPayment': 8609.87443632868, 'totalCostOfMortgage': 43049.372181643404, 'periodType': 'year', 'period': 5}\n",
    "{'interestRate': 0.02, 'periodPayment': 6248.403431732085, 'totalCostOfMortgage': 37490.42059039251, 'periodType': 'year', 'period': 6}\n"
   ]
  },
  {
   "cell_type": "code",
   "execution_count": null,
   "metadata": {},
   "outputs": [],
   "source": [
    "import os\n",
    "import sys\n",
    "\n",
    "# Set directory paths\n",
    "parent_dir = os.path.abspath('..')\n",
    "if parent_dir not in sys.path:\n",
    "    sys.path.append(parent_dir)\n",
    "\n",
    "from registry.tools_manager import tools_loader\n",
    "\n",
    "test = tools_loader()\n",
    "for i in test.list_functions():\n",
    "    if i['func_name'] == 'fixed_rate_prompt':\n",
    "        print(i['func']('{\"principal\": 6000, \"period\": 60, \"interestRate\": 3, \"periodType\": \"month\"}'))"
   ]
  },
  {
   "cell_type": "code",
   "execution_count": 3,
   "metadata": {},
   "outputs": [
    {
     "data": {
      "text/plain": [
       "'<!DOCTYPE html>\\n<html lang=\"en\">\\n <head>\\n  <script async=\"\" src=\"https://www.googletagmanager.com/gtag/js?id=G-ZZDYXSQZWQ\">\\n  </script>\\n  <script>\\n   window.dataLayer = window.dataLayer || [];\\n    function gtag() { dataLayer.push(arguments); }\\n    gtag(\\'js\\', new Date());\\n  \\n    // Check if the site is using HTTPS (secure connection)\\n    const isSecure = window.location.protocol === \\'https:\\';\\n    const cookieFlags = isSecure ? \\'SameSite=None; Secure\\' : \\'SameSite=None\\';\\n  \\n    gtag(\\'config\\', \\'G-ZZDYXSQZWQ\\', {\\n      cookie_flags: cookieFlags\\n    });\\n  </script>\\n  <meta charset=\"utf-8\"/>\\n  <meta content=\"IE=edge\" http-equiv=\"X-UA-Compatible\"/>\\n  <meta content=\"width=device-width, initial-scale=1.0\" name=\"viewport\"/>\\n  <meta content=\"no-cache\" http-equiv=\"cache-control\"/>\\n  <meta content=\"0\" http-equiv=\"expires\"/>\\n  <meta content=\"no-cache\" http-equiv=\"pragma\"/>\\n  <title>\\n   Demo Intro\\n  </title>\\n  <link href=\"./src/demo/css/style.css\" rel=\"stylesheet\"/>\\n </head>\\n <body>\\n  <main class=\"flex-main\">\\n   <div class=\"container center\">\\n    <h1 class=\"primary\">\\n     Oshinit Demo Site\\n    </h1>\\n    <div id=\"page-links\">\\n    </div>\\n   </div>\\n  </main>\\n  <footer>\\n   <p class=\"primary\">\\n    Â© Copyright, Oshinit 2022. All Rights Reserved.\\n   </p>\\n  </footer>\\n  <script type=\"module\">\\n   const { generateLinks, getLinks } = await import(\"./src/demo/scripts/ts/generate-link.js?v=\" + 123);\\n    // import { generateLinks, getLinks } from \\'./src/demo/scripts/ts/generate-link.js\\';\\n    getLinks(\\'./src/page-link.json\\').then(data => {\\n      generateLinks(data);\\n    });\\n  </script>\\n </body>\\n</html>\\n'"
      ]
     },
     "execution_count": 3,
     "metadata": {},
     "output_type": "execute_result"
    }
   ],
   "source": [
    "import requests\n",
    "from bs4 import BeautifulSoup\n",
    "from fake_useragent import UserAgent\n",
    "\n",
    "def get_website_content(input_str):\n",
    "    \"\"\"\n",
    "    Get the content of a website that deploys anti-bot measures.\n",
    "\n",
    "    Args:\n",
    "        input_str (dict): A dictionary containing the URL of the website to retrieve content from.\n",
    "\n",
    "    Returns:\n",
    "        str: The content of the website.\n",
    "    \"\"\"\n",
    "    try:\n",
    "        url = input_str.get('url')\n",
    "        if not url:\n",
    "            raise ValueError(\"The input dictionary must contain a 'url' key with a valid URL.\")\n",
    "        \n",
    "        ua = UserAgent()\n",
    "        headers = {'User-Agent': ua.random}\n",
    "\n",
    "        response = requests.get(url, headers=headers, timeout=10)\n",
    "        response.raise_for_status()  # Raise an HTTPError for bad responses\n",
    "        soup = BeautifulSoup(response.text, 'html.parser')\n",
    "        return soup.prettify()\n",
    "    except requests.RequestException as e:\n",
    "        return f\"An error occurred: {e}\"\n",
    "    \n",
    "get_website_content({'url': 'http://demo.oshinit.com/'})\n",
    "\n",
    "            # soup = BeautifulSoup(response.content, 'html.parser')\n",
    "            # for script in soup([\"script\", \"style\"]):\n",
    "            #     script.decompose()\n",
    "            # text = soup.get_text()\n"
   ]
  },
  {
   "cell_type": "code",
   "execution_count": 6,
   "metadata": {},
   "outputs": [
    {
     "data": {
      "text/plain": [
       "'<html dir=\"ltr\" lang=\"en-US\">\\n <head>\\n  <title>\\n   Just a moment...\\n  </title>\\n  <meta content=\"text/html; charset=utf-8\" http-equiv=\"Content-Type\"/>\\n  <meta content=\"IE=Edge\" http-equiv=\"X-UA-Compatible\"/>\\n  <meta content=\"noindex,nofollow\" name=\"robots\"/>\\n  <meta content=\"width=device-width,initial-scale=1\" name=\"viewport\"/>\\n  <style>\\n   *{box-sizing:border-box;margin:0;padding:0}html{line-height:1.15;-webkit-text-size-adjust:100%;color:#313131}button,html{font-family:system-ui,-apple-system,BlinkMacSystemFont,Segoe UI,Roboto,Helvetica Neue,Arial,Noto Sans,sans-serif,Apple Color Emoji,Segoe UI Emoji,Segoe UI Symbol,Noto Color Emoji}@media (prefers-color-scheme:dark){body{background-color:#222;color:#d9d9d9}body a{color:#fff}body a:hover{color:#ee730a;text-decoration:underline}body .lds-ring div{border-color:#999 transparent transparent}body .font-red{color:#b20f03}body .pow-button{background-color:#4693ff;color:#1d1d1d}body #challenge-success-text{background-image:url(data:image/svg+xml;base64,PHN2ZyB4bWxucz0iaHR0cDovL3d3dy53My5vcmcvMjAwMC9zdmciIHdpZHRoPSIzMiIgaGVpZ2h0PSIzMiIgZmlsbD0ibm9uZSIgdmlld0JveD0iMCAwIDI2IDI2Ij48cGF0aCBmaWxsPSIjZDlkOWQ5IiBkPSJNMTMgMGExMyAxMyAwIDEgMCAwIDI2IDEzIDEzIDAgMCAwIDAtMjZtMCAyNGExMSAxMSAwIDEgMSAwLTIyIDExIDExIDAgMCAxIDAgMjIiLz48cGF0aCBmaWxsPSIjZDlkOWQ5IiBkPSJtMTAuOTU1IDE2LjA1NS0zLjk1LTQuMTI1LTEuNDQ1IDEuMzg1IDUuMzcgNS42MSA5LjQ5NS05LjYtMS40Mi0xLjQwNXoiLz48L3N2Zz4=)}body #challenge-error-text{background-image:url(data:image/svg+xml;base64,PHN2ZyB4bWxucz0iaHR0cDovL3d3dy53My5vcmcvMjAwMC9zdmciIHdpZHRoPSIzMiIgaGVpZ2h0PSIzMiIgZmlsbD0ibm9uZSI+PHBhdGggZmlsbD0iI0IyMEYwMyIgZD0iTTE2IDNhMTMgMTMgMCAxIDAgMTMgMTNBMTMuMDE1IDEzLjAxNSAwIDAgMCAxNiAzbTAgMjRhMTEgMTEgMCAxIDEgMTEtMTEgMTEuMDEgMTEuMDEgMCAwIDEtMTEgMTEiLz48cGF0aCBmaWxsPSIjQjIwRjAzIiBkPSJNMTcuMDM4IDE4LjYxNUgxNC44N0wxNC41NjMgOS41aDIuNzgzem0tMS4wODQgMS40MjdxLjY2IDAgMS4wNTcuMzg4LjQwNy4zODkuNDA3Ljk5NCAwIC41OTYtLjQwNy45ODQtLjM5Ny4zOS0xLjA1Ny4zODktLjY1IDAtMS4wNTYtLjM4OS0uMzk4LS4zODktLjM5OC0uOTg0IDAtLjU5Ny4zOTgtLjk4NS40MDYtLjM5NyAxLjA1Ni0uMzk3Ii8+PC9zdmc+)}}body{display:flex;flex-direction:column;min-height:100vh}body.no-js .loading-spinner{visibility:hidden}body.no-js .challenge-running{display:none}body.dark{background-color:#222;color:#d9d9d9}body.dark a{color:#fff}body.dark a:hover{color:#ee730a;text-decoration:underline}body.dark .lds-ring div{border-color:#999 transparent transparent}body.dark .font-red{color:#b20f03}body.dark .pow-button{background-color:#4693ff;color:#1d1d1d}body.dark #challenge-success-text{background-image:url(data:image/svg+xml;base64,PHN2ZyB4bWxucz0iaHR0cDovL3d3dy53My5vcmcvMjAwMC9zdmciIHdpZHRoPSIzMiIgaGVpZ2h0PSIzMiIgZmlsbD0ibm9uZSIgdmlld0JveD0iMCAwIDI2IDI2Ij48cGF0aCBmaWxsPSIjZDlkOWQ5IiBkPSJNMTMgMGExMyAxMyAwIDEgMCAwIDI2IDEzIDEzIDAgMCAwIDAtMjZtMCAyNGExMSAxMSAwIDEgMSAwLTIyIDExIDExIDAgMCAxIDAgMjIiLz48cGF0aCBmaWxsPSIjZDlkOWQ5IiBkPSJtMTAuOTU1IDE2LjA1NS0zLjk1LTQuMTI1LTEuNDQ1IDEuMzg1IDUuMzcgNS42MSA5LjQ5NS05LjYtMS40Mi0xLjQwNXoiLz48L3N2Zz4=)}body.dark #challenge-error-text{background-image:url(data:image/svg+xml;base64,PHN2ZyB4bWxucz0iaHR0cDovL3d3dy53My5vcmcvMjAwMC9zdmciIHdpZHRoPSIzMiIgaGVpZ2h0PSIzMiIgZmlsbD0ibm9uZSI+PHBhdGggZmlsbD0iI0IyMEYwMyIgZD0iTTE2IDNhMTMgMTMgMCAxIDAgMTMgMTNBMTMuMDE1IDEzLjAxNSAwIDAgMCAxNiAzbTAgMjRhMTEgMTEgMCAxIDEgMTEtMTEgMTEuMDEgMTEuMDEgMCAwIDEtMTEgMTEiLz48cGF0aCBmaWxsPSIjQjIwRjAzIiBkPSJNMTcuMDM4IDE4LjYxNUgxNC44N0wxNC41NjMgOS41aDIuNzgzem0tMS4wODQgMS40MjdxLjY2IDAgMS4wNTcuMzg4LjQwNy4zODkuNDA3Ljk5NCAwIC41OTYtLjQwNy45ODQtLjM5Ny4zOS0xLjA1Ny4zODktLjY1IDAtMS4wNTYtLjM4OS0uMzk4LS4zODktLjM5OC0uOTg0IDAtLjU5Ny4zOTgtLjk4NS40MDYtLjM5NyAxLjA1Ni0uMzk3Ii8+PC9zdmc+)}body.light{background-color:transparent;color:#313131}body.light a{color:#0051c3}body.light a:hover{color:#ee730a;text-decoration:underline}body.light .lds-ring div{border-color:#595959 transparent transparent}body.light .font-red{color:#fc574a}body.light .pow-button{background-color:#003681;border-color:#003681;color:#fff}body.light #challenge-success-text{background-image:url(data:image/svg+xml;base64,PHN2ZyB4bWxucz0iaHR0cDovL3d3dy53My5vcmcvMjAwMC9zdmciIHdpZHRoPSIzMiIgaGVpZ2h0PSIzMiIgZmlsbD0ibm9uZSIgdmlld0JveD0iMCAwIDI2IDI2Ij48cGF0aCBmaWxsPSIjMzEzMTMxIiBkPSJNMTMgMGExMyAxMyAwIDEgMCAwIDI2IDEzIDEzIDAgMCAwIDAtMjZtMCAyNGExMSAxMSAwIDEgMSAwLTIyIDExIDExIDAgMCAxIDAgMjIiLz48cGF0aCBmaWxsPSIjMzEzMTMxIiBkPSJtMTAuOTU1IDE2LjA1NS0zLjk1LTQuMTI1LTEuNDQ1IDEuMzg1IDUuMzcgNS42MSA5LjQ5NS05LjYtMS40Mi0xLjQwNXoiLz48L3N2Zz4=)}body.light #challenge-error-text{background-image:url(data:image/svg+xml;base64,PHN2ZyB4bWxucz0iaHR0cDovL3d3dy53My5vcmcvMjAwMC9zdmciIHdpZHRoPSIzMiIgaGVpZ2h0PSIzMiIgZmlsbD0ibm9uZSI+PHBhdGggZmlsbD0iI2ZjNTc0YSIgZD0iTTE2IDNhMTMgMTMgMCAxIDAgMTMgMTNBMTMuMDE1IDEzLjAxNSAwIDAgMCAxNiAzbTAgMjRhMTEgMTEgMCAxIDEgMTEtMTEgMTEuMDEgMTEuMDEgMCAwIDEtMTEgMTEiLz48cGF0aCBmaWxsPSIjZmM1NzRhIiBkPSJNMTcuMDM4IDE4LjYxNUgxNC44N0wxNC41NjMgOS41aDIuNzgzem0tMS4wODQgMS40MjdxLjY2IDAgMS4wNTcuMzg4LjQwNy4zODkuNDA3Ljk5NCAwIC41OTYtLjQwNy45ODQtLjM5Ny4zOS0xLjA1Ny4zODktLjY1IDAtMS4wNTYtLjM4OS0uMzk4LS4zODktLjM5OC0uOTg0IDAtLjU5Ny4zOTgtLjk4NS40MDYtLjM5NyAxLjA1Ni0uMzk3Ii8+PC9zdmc+)}a{background-color:transparent;color:#0051c3;text-decoration:none;transition:color .15s ease}a:hover{color:#ee730a;text-decoration:underline}.main-content{margin:8rem auto;max-width:60rem;width:100%}.heading-favicon{height:2rem;margin-right:.5rem;width:2rem}@media (width <= 720px){.main-content{margin-top:4rem}.heading-favicon{height:1.5rem;width:1.5rem}}.footer,.main-content{padding-left:1.5rem;padding-right:1.5rem}.main-wrapper{align-items:center;display:flex;flex:1;flex-direction:column}.font-red{color:#b20f03}.spacer{margin:2rem 0}.h1{font-size:2.5rem;font-weight:500;line-height:3.75rem}.h2{font-weight:500}.core-msg,.h2{font-size:1.5rem;line-height:2.25rem}.body-text,.core-msg{font-weight:400}.body-text{font-size:1rem;line-height:1.25rem}@media (width <= 720px){.h1{font-size:1.5rem;line-height:1.75rem}.h2{font-size:1.25rem}.core-msg,.h2{line-height:1.5rem}.core-msg{font-size:1rem}}#challenge-error-text{background-image:url(data:image/svg+xml;base64,PHN2ZyB4bWxucz0iaHR0cDovL3d3dy53My5vcmcvMjAwMC9zdmciIHdpZHRoPSIzMiIgaGVpZ2h0PSIzMiIgZmlsbD0ibm9uZSI+PHBhdGggZmlsbD0iI2ZjNTc0YSIgZD0iTTE2IDNhMTMgMTMgMCAxIDAgMTMgMTNBMTMuMDE1IDEzLjAxNSAwIDAgMCAxNiAzbTAgMjRhMTEgMTEgMCAxIDEgMTEtMTEgMTEuMDEgMTEuMDEgMCAwIDEtMTEgMTEiLz48cGF0aCBmaWxsPSIjZmM1NzRhIiBkPSJNMTcuMDM4IDE4LjYxNUgxNC44N0wxNC41NjMgOS41aDIuNzgzem0tMS4wODQgMS40MjdxLjY2IDAgMS4wNTcuMzg4LjQwNy4zODkuNDA3Ljk5NCAwIC41OTYtLjQwNy45ODQtLjM5Ny4zOS0xLjA1Ny4zODktLjY1IDAtMS4wNTYtLjM4OS0uMzk4LS4zODktLjM5OC0uOTg0IDAtLjU5Ny4zOTgtLjk4NS40MDYtLjM5NyAxLjA1Ni0uMzk3Ii8+PC9zdmc+);padding-left:34px}#challenge-error-text,#challenge-success-text{background-repeat:no-repeat;background-size:contain}#challenge-success-text{background-image:url(data:image/svg+xml;base64,PHN2ZyB4bWxucz0iaHR0cDovL3d3dy53My5vcmcvMjAwMC9zdmciIHdpZHRoPSIzMiIgaGVpZ2h0PSIzMiIgZmlsbD0ibm9uZSIgdmlld0JveD0iMCAwIDI2IDI2Ij48cGF0aCBmaWxsPSIjMzEzMTMxIiBkPSJNMTMgMGExMyAxMyAwIDEgMCAwIDI2IDEzIDEzIDAgMCAwIDAtMjZtMCAyNGExMSAxMSAwIDEgMSAwLTIyIDExIDExIDAgMCAxIDAgMjIiLz48cGF0aCBmaWxsPSIjMzEzMTMxIiBkPSJtMTAuOTU1IDE2LjA1NS0zLjk1LTQuMTI1LTEuNDQ1IDEuMzg1IDUuMzcgNS42MSA5LjQ5NS05LjYtMS40Mi0xLjQwNXoiLz48L3N2Zz4=);padding-left:42px}.text-center{text-align:center}.pow-button{background-color:#0051c3;border:.063rem solid #0051c3;border-radius:.313rem;color:#fff;font-size:.875rem;line-height:1.313rem;margin:2rem 0;padding:.375rem 1rem;transition-duration:.2s;transition-property:background-color,border-color,color;transition-timing-function:ease}.pow-button:hover{background-color:#003681;border-color:#003681;color:#fff;cursor:pointer}.footer{font-size:.75rem;line-height:1.125rem;margin:0 auto;max-width:60rem;width:100%}.footer-inner{border-top:1px solid #d9d9d9;padding-bottom:1rem;padding-top:1rem}.clearfix:after{clear:both;content:\"\";display:table}.clearfix .column{float:left;padding-right:1.5rem;width:50%}.diagnostic-wrapper{margin-bottom:.5rem}.footer .ray-id{text-align:center}.footer .ray-id code{font-family:monaco,courier,monospace}.core-msg,.zone-name-title{overflow-wrap:break-word}@media (width <= 720px){.diagnostic-wrapper{display:flex;flex-wrap:wrap;justify-content:center}.clearfix:after{clear:none;content:none;display:initial;text-align:center}.column{padding-bottom:2rem}.clearfix .column{float:none;padding:0;width:auto;word-break:keep-all}.zone-name-title{margin-bottom:1rem}}.loading-spinner{height:76.391px}.lds-ring{display:inline-block;position:relative}.lds-ring,.lds-ring div{height:1.875rem;width:1.875rem}.lds-ring div{animation:lds-ring 1.2s cubic-bezier(.5,0,.5,1) infinite;border:.3rem solid transparent;border-radius:50%;border-top-color:#313131;box-sizing:border-box;display:block;position:absolute}.lds-ring div:first-child{animation-delay:-.45s}.lds-ring div:nth-child(2){animation-delay:-.3s}.lds-ring div:nth-child(3){animation-delay:-.15s}@keyframes lds-ring{0%{transform:rotate(0)}to{transform:rotate(1turn)}}@media screen and (-ms-high-contrast:active),screen and (-ms-high-contrast:none){.main-wrapper,body{display:block}}.rtl .heading-favicon{margin-left:.5rem;margin-right:0}.rtl #challenge-success-text{background-position:100%;padding-left:0;padding-right:42px}.rtl #challenge-error-text{background-position:100%;padding-left:0;padding-right:34px}\\n  </style>\\n  <meta content=\"390\" http-equiv=\"refresh\"/>\\n  <script src=\"/cdn-cgi/challenge-platform/h/g/orchestrate/chl_page/v1?ray=8aa2d9581cefbf02\">\\n  </script>\\n  <script async=\"\" crossorigin=\"anonymous\" defer=\"\" src=\"https://challenges.cloudflare.com/turnstile/v0/g/2db5e1cc2adc/api.js?onload=Vyhu1&amp;render=explicit\">\\n  </script>\\n </head>\\n <body class=\"no-js\">\\n  <div class=\"main-wrapper\" role=\"main\">\\n   <div class=\"main-content\">\\n    <h1 class=\"zone-name-title h1\">\\n     www.zoopla.co.uk\\n    </h1>\\n    <h2 class=\"h2\" id=\"tVfr5\">\\n     Verifying you are human. This may take a few seconds.\\n    </h2>\\n    <div id=\"PYMIw2\" style=\"display: flex;\">\\n     <div class=\"spacer\">\\n      <div>\\n       <div style=\"border: 0px; margin: 0px; padding: 0px;\">\\n        <input id=\"cf-chl-widget-61lfk_response\" name=\"cf-turnstile-response\" type=\"hidden\"/>\\n       </div>\\n      </div>\\n     </div>\\n    </div>\\n    <div class=\"spacer loading-spinner\" id=\"ISaYj6\" style=\"display: none; visibility: hidden;\">\\n     <div class=\"lds-ring\">\\n      <div>\\n      </div>\\n      <div>\\n      </div>\\n      <div>\\n      </div>\\n      <div>\\n      </div>\\n     </div>\\n    </div>\\n    <div class=\"core-msg spacer\" id=\"jtBO8\">\\n     www.zoopla.co.uk needs to review the security of your connection before proceeding.\\n    </div>\\n    <div id=\"FxsiC1\" style=\"display: none;\">\\n     <div class=\"h2\" id=\"challenge-success-text\">\\n      Verification successful\\n     </div>\\n     <div class=\"core-msg spacer\">\\n      Waiting for www.zoopla.co.uk to respond...\\n     </div>\\n    </div>\\n    <noscript>\\n     <div id=\"challenge-error-title\">\\n      <div class=\"h2\">\\n       <span id=\"challenge-error-text\">\\n        Enable JavaScript and cookies to continue\\n       </span>\\n      </div>\\n     </div>\\n    </noscript>\\n   </div>\\n  </div>\\n  <script>\\n   (function(){window._cf_chl_opt={cvId: \\'3\\',cZone: \"www.zoopla.co.uk\",cType: \\'managed\\',cNounce: \\'51751\\',cRay: \\'8aa2d9581cefbf02\\',cHash: \\'f75ceb3cdd8896d\\',cUPMDTk: \"\\\\/for-sale\\\\/property\\\\/hampshire\\\\/farnborough\\\\/?q=Farnborough%2C%20Hampshire&results_sort=newest_listings&search_source=home&__cf_chl_tk=PHbMFJwBCcQ1I9Q2zyZn1qh1Ex21gdj5b6jfH8hcSvU-1722148524-0.0.1.1-4394\",cFPWv: \\'g\\',cTTimeMs: \\'1000\\',cMTimeMs: \\'390000\\',cTplV: 5,cTplB: \\'cf\\',cK: \"\",fa: \"\\\\/for-sale\\\\/property\\\\/hampshire\\\\/farnborough\\\\/?q=Farnborough%2C%20Hampshire&results_sort=newest_listings&search_source=home&__cf_chl_f_tk=PHbMFJwBCcQ1I9Q2zyZn1qh1Ex21gdj5b6jfH8hcSvU-1722148524-0.0.1.1-4394\",md: \"iILTFG8ABEiH7Ix2Hem.iqPAjc5zAsWV7iHs6yy8nIk-1722148524-1.1.1.1-0QnjdiZ0BR9sfJbpYb0y3dpAyoBT2EKplonw5Jpr0md4onSb2jlvsHxpHk2jkI9RMMnk9wVScoRL.g.KdPA1ycA40O_OiNiUf9HbIFPhU8.g7LxbSpv5lRUioCPJM6TNA0k6zooA1U133ReQ3W21nHn7L3gyT9NtH0J._f68zUyPU9LOEP9GZq0YiST3jA6YjXNoLK2MGJc7y3Az0DXa4YhDvZ46BZRuKdxYy_Fi6scd7aUPbmn.MR_qsdHNrkTAwNtpkt6bkW7pm5XqboQziaiKaXwvfmx1sU1pjXJfI.guezwd.W30xrjn0xEbxd1dc.NT5NGWYi68p7ZQ96YvTj4aKQg_PRXaEYe0K6khpHgyM6PhIwsEd5zkaKxVVBFJ_U4BlgPNMxRlhRnCpRd0u2XDVOQBqyxZGRjw4tvH44Bp7va1Ff4s2y8v9lOlQlJQRJQqnwrHWXADrbqcFW36Z10NILGvOA87PcxhyzrVmwj2WMulHaKLofrcb3BWSgUWBy29NJMV_tVOqZmDF7t_BBds46GDLCnDwAtar0HQ.Poj85hdHB_cLfHJZ5Mq4Vb1TagMBU2T3vqR9UyMp1ekgEFCvKf7iuXnSECj4FXJ0LhFu3zDBfWJDUxJcnYInUNuSja25OhqR8TbbYb6npNiiCn0jMlVSUn7RCHD6ZkWCfRreBaD02KgpeI8Yfoz1sHb8gPHOweo1hwMr9z5IQF3uUB7Fwvae7E7.Z..OSy13KK8SYCZ.XVIKI0FqlMoPob.FWBufcjXH7On8RRPsqZ.fHfLN.s9nYuFi4g4l_0WVgiMbr4a5XVf.UMPO2cmKyGomOqzYwcbLsiVZL9woLtUkzdFLzx5gfADWGankiOu0wJhL5zXOVJt5Im63E.wnyX4dMNIfEVU_uiNxRxcXRmPhSkwzFYFFQucmWzenoTsOasff7YE.HglxFp5hkPkc0IdY.NhPeHq_cm_eslrrGFzwqeFFavlEzMrf81cZICSwfzxVAkwoSEYsXmMiVr8xNPUk6JLBqHjZxyHd5PHlT.LwwEJ0SiEvVDrj0PgHlY4YuVYigiyLxoqkzqauf900d_wUFPtOky1qbpVJRECVbbLpQbSOrOz9liYGegmHAxaE1wnd73TU_hfkT8o8byTTJ1HYFQs62HqJ1Fo5fqUC95Jl2p5amYGI6fYvEV_3_efJQupCbK1c7EwFwDppTwbxE9ZC7yRBpEa_IXTAkZITbCew9gQW22_VGWc_bateNIyPmZFsQCI_UI.RC4OETVB.fdQeOlj6sb2APpfhW86zLrtXHVDNRetN7sLvxwO1XJXGdbY7flG7SR2FGDV.TAhUNzCbL8cHr5W8F.Na1k892O3cccETiwAprDG0V9mcUQ9jMY8c8L8r9HWvse4c5U4v7V7oocindCYKkJkZeGquINdV2MXFP1d1o7aR5393MXa1u3wBMeXTHaoltJeniy10Zb7boTdJR8lj1nL8Sl7eT6QsoHyaMvAKuyoh3FNOziA3kFr_7UA.zuHhYP86ELrq5MdPL6GDU4Fy9oNNq7Z.Mgd.6KYiMZimIomBkfmCqfFaB9OOJExSkPozptBcSxioXS9XNlY3DWqEvwoSw9.I8m7RRGlfFT_hcXPeM7Pct5yqVfvRJ77zCjgOybJjyGXZH2R9yIum3yPRNLI7jUXYgjq_bwz3ou67oMJ26qYasJmqxgUdyv91iHJhg5af3rEQSzEtnBzzCiDLUf9xX_eHyYWbQ\",mdrd: \"fayAOUqgkAO1aTWJbnetEFOkPGNBdnu9mryPH3ZE7fw-1722148524-1.1.1.1-aKlw82LxU5L3LZ1WQAewQlL2unSTKvAHmo3LyghtLpLzER2X1wLzoIsj_Prmf5GOnPg41l6NHE45JwayBQtBHLnt0dYHe1L48g1IPrMoyi1HAc8atzFNcC7bwSBwj7Iz77yESFcuy2p6h_fkLiD74e3EKf06MY8cEFSSgPUCiSA0bk6xLNCEE7FRjKZZs6BcY.9YWHwYom1_LJ3WCAMcwmRWfn8S0Fi1IeFNoFKoKh89cq6yP7IYPUtyUp2rsDsNcg9GT.Z22ff5AlKpWS7knFmdzRC.IatOCoW257DyL8ute8A8zZw8Isvfpqer6MApqCiHM0278JMp7vF7JXrnWxmmT4T_TBgjUH1MoTr6N0m5pwGQ18.Asm92y9ELjYidNTFcUsXyBEGbx9gtk559yo42NueyRBWQ.OKgT4aVNMCLTpMIY01UUvXcFcwLz2HHpwR5VQOiQBzWpTOjBFhGEdhUkz7815sb_Vnl6Tjs_ubO4_ro3q77f5SBJN2iqQdgpB5GJnJz4aJisgYjyLbnxywdeH1mHXp4xbdO4nQqCBw87Had7mJnH9Cel1pe0ZO2uXAdg_osiXYUp3lgVEukuwJYvmYg2h_9Ot.FUs758IKzUlTLgr0GAn7owTGCYdSKQkr8lGDETHcfQIM1avHN4TRV_xDaGsKaLbWtBuH2kcis9PDM5kDSLtDf4rRHgdfovorUaCszJF7I5lxn7RiF5JwlbACs6YLM4_mOn1LiXRbwJwHHizJ2ZVZpsKs7jZ96TSHhdq48KuAF4W4sATG2zowS0I36svxxM8w1btV5pkZ82mtswLAuI_i4Vvf9O28CUp.CTs05IBzmVpiCisc2aNU1t5rwcdxr9xwPZDa5G6wq5dkh2cduUHJchJMPah0UTXOyjlkbP93jOuI2qyS295rWSI7EQY8EQcHbugKk5ix6PtSet3UPDMa2L0sppSJOAU5bQso5mqWksTil4PZDVFH4dzwUUDFZGINibuWTj9iVF.WD0djf2E0bN2Cij8Yh5rIn0SR0t3fxsJoPfVuweOr3tgcUckQELgo3OtG5FMTrQqyRPj2vzMbZrk3eGbKP77VC.j6euR8OJWzd3JR8RB0vI8z8lpsRv48x1jLCa18ALTl_4hevNZZPkJE9nlEW_4qWsmlc6OvyBWkJbwrCt6out9QuoBpSsaYE7TZTCMSKo.fm9l0ImmA7J9pN9dz24aNXpp3lEh2HOL_WCz.jI4Na2TPH0HqQ2izy4cXwRmOVpxcD6e3TrRKEnpF2M24433v0J5_vRhsIw6ZFPkT0MqwyIAt95HRy85oOjUcO.nQW9z7JlkTvcJFXP8Yrx8LWOx0fp97SXAefhRZ5Q7VGoxwXJCPXd0kXk5mk19R34euazUL5WO9a0NSGGjVOcOA3UYk80r5zxIUFKKiBp27nMKIlWqX6tlMkyJBCx4Pc.P5di2J9DNgOr5bRgbpA8xvHBEhruhXj4y1bv8DwIeTQfngQN_DZThMC9r0SNhHukAgK2_COG7fsvzge3FpSLw2ahwR4PKq.eqws3fXva8DLwHf5AVyj3FnAVvF45MrnIZFE0SC4MStG5aF2HpQ9P4FO9n0zsbLSoNEwviQG9eSkm11gIGzAGQhuon_GTs9d9eEqfEg5_gqV7O2TPHVbDQQo6gfMCXBmNW6.2obHlBhU8gqS_M9IDV5516UrM5usAYXEkM6esE.EAs8iAjO2YJjXMG.sdUGwqM.SPPC9WwBhtMLQtrz_OvOnEl6iloCm.d1jZq8B_Ac464IUwjAU7cLj44Oxmx0UmNFPuFh7DflMCOSX3.cmlk4QOkTmgEfFf0u8toTg3pDz0Dlxa8RVPEc8LH.ump7MjcR_gI9CauT1LEhjxgl8wjjr_vG_nmB9r9INEb0cCgOlpwFzgB.zH7aCfF6F1wrnndEBDrwEJLXPzz2NtuZnbITePE0YXNci0qqxUfcTyX79AnNj2IODTBwXYHoSHI8M8CiRfwxY_Imk7KWjrlnl_QrF2oUF_9vfmVGXnoYKhatzho7ex39pBr10KjR.wHrujIgCo0BD4fj1J3PhLTwBOdYPbEGvzKqLpP5Yz3xNInFYy9h0ovWnC2JXsilGPV5rg7n9p8Yuw7wQ0Ln_VXi_yHgb0hMhedsSlA0Wf271b66.id1fzOAKx.M0E_Q_IkPeVLIAao5VETUbHDGqQ.llb2VCz6fahOHJi48UNEpjZlZEreiibptTT0NVgU1gkaN0o40g8IAKAWWFRxqhlO59QCnUQ2Ra0ZsnK64D9Wn1zS8p_twfj2bkbUrwGne8977aex2L2LNHvJYncV2u3nk4vaX38RVEw1O_RwDfkMnNatF_VupkuHlsHY9E5v1tqEKOr48MxrsMXcXpvKtQQ2no7pcWkKKYFHhkp8ledpJn6BGMu33jKS73P.o00P6VQSKbesjSJ26wyoE9WdPDOIumj3pRDWYywchU4SC1AafeSi2RzMWtuE3UQX5xn6zVGmViUpvEVngpLLqftw\",cRq: {ru: \\'aHR0cHM6Ly93d3cuem9vcGxhLmNvLnVrL2Zvci1zYWxlL3Byb3BlcnR5L2hhbXBzaGlyZS9mYXJuYm9yb3VnaC8/cT1GYXJuYm9yb3VnaCUyQyUyMEhhbXBzaGlyZSZyZXN1bHRzX3NvcnQ9bmV3ZXN0X2xpc3RpbmdzJnNlYXJjaF9zb3VyY2U9aG9tZQ==\\',ra: \\'TW96aWxsYS81LjAgKFdpbmRvd3MgTlQgMTAuMDsgV2luNjQ7IHg2NCkgQXBwbGVXZWJLaXQvNTM3LjM2IChLSFRNTCwgbGlrZSBHZWNrbykgSGVhZGxlc3NDaHJvbWUvMTI2LjAuNjQ3OC4xODUgU2FmYXJpLzUzNy4zNg==\\',rm: \\'R0VU\\',d: \\'VrJC4kqaVkiTsKEmxytxFfCa8y8+jnXGN6fYnW984vVGis5TNJFyyCtfUCZaHs/T4xUpXRBAV3Oh0M5yrECH2g8ORaamIEWnxwiZEr7EeKsk/CBMMylwDKZT6HZLEH7UxWBqV3zFp+g3yewdtFXog46rKbzuGd87bpZ+HgTICXOmXCILyOAlK5xFLDjKHsKiq+NmpERxUrNgs/7+ovps/DqhoHgF4GfCeehGDeVzNAb1YBuPPlDpDh7CP5gSxM400iKdaI+s/Ej5wmzs9OYxN4uR6sxq3lx8dBqm5j6dzRUdbFpe/JHxeGywNHh40mhXSGk2O8juIrmQmrcCNcX9TfwRiyGeQbYpOYXsJZ8tS1atA/NA5N1RGITH2YVAd1l+unmXnrqp1RpFL1zrRnfkKeEXk183u2GV9XN8iFkw4a/k+gWb+djs/dj2fqojXUvwGLjyteP3hcydN8EIclfZ98n+ElaTq5+R/8R9UnQcwYDr74weLUbCFwCflpJ2tkUiSVZgcHG0cD+CP4xpZqatOQ==\\',t: \\'MTcyMjE0ODUyNC4wMDAwMDA=\\',cT: Math.floor(Date.now() / 1000),m: \\'Yj9d+Va7HTOZ+UXMc949ebeeHYGJ8jP2jl/fn+UjmhU=\\',i1: \\'wmFv+DyHKJMThTeTuQSTNQ==\\',i2: \\'aqH2YT0CdlN+CWE7x3Decw==\\',zh: \\'xCDqLBeh2nf2GMxys+dPa2AoW5QBxtFnmvenSNz6UBA=\\',uh: \\'p/QnNTAg+G1F6l6b6soue8cP68+kbFQ00uiaQ2mzXGI=\\',hh: \\'dAdzmVvSHa32gxmut1P3Y+hPwy3hv+p8UfWCdBVOSyc=\\',}};var cpo = document.createElement(\\'script\\');cpo.src = \\'/cdn-cgi/challenge-platform/h/g/orchestrate/chl_page/v1?ray=8aa2d9581cefbf02\\';window._cf_chl_opt.cOgUHash = location.hash === \\'\\' && location.href.indexOf(\\'#\\') !== -1 ? \\'#\\' : location.hash;window._cf_chl_opt.cOgUQuery = location.search === \\'\\' && location.href.slice(0, location.href.length - window._cf_chl_opt.cOgUHash.length).indexOf(\\'?\\') !== -1 ? \\'?\\' : location.search;if (window.history && window.history.replaceState) {var ogU = location.pathname + window._cf_chl_opt.cOgUQuery + window._cf_chl_opt.cOgUHash;history.replaceState(null, null, \"\\\\/for-sale\\\\/property\\\\/hampshire\\\\/farnborough\\\\/?q=Farnborough%2C%20Hampshire&results_sort=newest_listings&search_source=home&__cf_chl_rt_tk=PHbMFJwBCcQ1I9Q2zyZn1qh1Ex21gdj5b6jfH8hcSvU-1722148524-0.0.1.1-4394\" + window._cf_chl_opt.cOgUHash);cpo.onload = function() {history.replaceState(null, null, ogU);}}document.getElementsByTagName(\\'head\\')[0].appendChild(cpo);}());\\n  </script>\\n  <div class=\"footer\" role=\"contentinfo\">\\n   <div class=\"footer-inner\">\\n    <div class=\"clearfix diagnostic-wrapper\">\\n     <div class=\"ray-id\">\\n      Ray ID:\\n      <code>\\n       8aa2d9581cefbf02\\n      </code>\\n     </div>\\n    </div>\\n    <div class=\"text-center\" id=\"footer-text\">\\n     Performance &amp; security by\\n     <a href=\"https://www.cloudflare.com?utm_source=challenge&amp;utm_campaign=m\" rel=\"noopener noreferrer\" target=\"_blank\">\\n      Cloudflare\\n     </a>\\n    </div>\\n   </div>\\n  </div>\\n </body>\\n</html>\\n'"
      ]
     },
     "execution_count": 6,
     "metadata": {},
     "output_type": "execute_result"
    }
   ],
   "source": [
    "from selenium import webdriver\n",
    "from selenium.webdriver.chrome.service import Service\n",
    "from selenium.webdriver.common.by import By\n",
    "from selenium.webdriver.chrome.options import Options\n",
    "from webdriver_manager.chrome import ChromeDriverManager\n",
    "from bs4 import BeautifulSoup\n",
    "\n",
    "def get_inspect_element_content(input_str):\n",
    "    \"\"\"\n",
    "    Get the content of a website that deploys anti-bot measures.\n",
    "\n",
    "    Args:\n",
    "        input_str (dict): A dictionary containing the URL of the website to retrieve content from.\n",
    "\n",
    "    Returns:\n",
    "        str: The content of the website.\n",
    "    \"\"\"\n",
    "    try:\n",
    "        url = input_str.get('url')\n",
    "        if not url:\n",
    "            raise ValueError(\"The input dictionary must contain a 'url' key with a valid URL.\")\n",
    "        \n",
    "        # Set up Chrome options\n",
    "        chrome_options = Options()\n",
    "        chrome_options.add_argument(\"--headless\")  # Run in headless mode\n",
    "        chrome_options.add_argument(\"--disable-gpu\")\n",
    "        chrome_options.add_argument(\"--no-sandbox\")\n",
    "\n",
    "        # Initialize the WebDriver\n",
    "        service = Service(ChromeDriverManager().install())\n",
    "        driver = webdriver.Chrome(service=service, options=chrome_options)\n",
    "\n",
    "        # Open the URL\n",
    "        driver.get(url)\n",
    "\n",
    "        # Wait for the page to load completely\n",
    "        driver.implicitly_wait(10)\n",
    "\n",
    "        # Get the page source\n",
    "        page_source = driver.page_source\n",
    "\n",
    "        # Close the WebDriver\n",
    "        driver.quit()\n",
    "\n",
    "        # Parse the page source with BeautifulSoup\n",
    "        soup = BeautifulSoup(page_source, 'html.parser')\n",
    "        return soup.prettify()\n",
    "    except Exception as e:\n",
    "        return f\"An error occurred: {e}\"\n",
    "    \n",
    "get_inspect_element_content('https://www.zoopla.co.uk/for-sale/property/hampshire/farnborough/?q=Farnborough%2C%20Hampshire&results_sort=newest_listings&search_source=home')"
   ]
  },
  {
   "cell_type": "code",
   "execution_count": 6,
   "metadata": {},
   "outputs": [
    {
     "name": "stdout",
     "output_type": "stream",
     "text": [
      "False\n",
      "False\n"
     ]
    }
   ],
   "source": [
    "\n",
    "test = {'Thought': 'The query seems to be asking for financial calculations related to a loan.', 'Action': \"Identified keywords: 'loan', '£10000', '5 years', '2.5%' (annually).\", 'PAUSE': 'Process halted.', 'Observation': 'The query requests financial calculations, which is a typical business operation.', 'Answer': ': Yes, the query is a business operation problem.'}\n",
    "print('Final Answer' in str(test))\n",
    "\n",
    "def check_for_final_answer(result):\n",
    "  \"\"\"Checks if the result contains 'Final Answer:' and if the following content is a dictionary.\n",
    "\n",
    "  Args:\n",
    "    result: The result to be checked.\n",
    "\n",
    "  Returns:\n",
    "    True if 'Final Answer:' is found and the following content is a dictionary,\n",
    "    False otherwise.\n",
    "  \"\"\"\n",
    "\n",
    "  if 'Final Answer:' not in result:\n",
    "    return False\n",
    "\n",
    "  try:\n",
    "    answer_start = result.index('Final Answer:') + len('Final Answer:')\n",
    "    answer = eval(result[answer_start:])\n",
    "    return isinstance(answer, dict)\n",
    "  except (ValueError, SyntaxError):\n",
    "    return False\n",
    "  \n",
    "print(check_for_final_answer(test))\n",
    "\n",
    "\n",
    "\n",
    "\n",
    "\n"
   ]
  }
 ],
 "metadata": {
  "kernelspec": {
   "display_name": "awca_env",
   "language": "python",
   "name": "python3"
  },
  "language_info": {
   "codemirror_mode": {
    "name": "ipython",
    "version": 3
   },
   "file_extension": ".py",
   "mimetype": "text/x-python",
   "name": "python",
   "nbconvert_exporter": "python",
   "pygments_lexer": "ipython3",
   "version": "3.12.4"
  }
 },
 "nbformat": 4,
 "nbformat_minor": 2
}
